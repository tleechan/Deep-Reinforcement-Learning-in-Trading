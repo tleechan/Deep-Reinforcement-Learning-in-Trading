{
 "cells": [
  {
   "cell_type": "markdown",
   "id": "40f7c656",
   "metadata": {
    "id": "40f7c656"
   },
   "source": [
    "# Notebook Instructions\n",
    "\n",
    "1. If you are new to Jupyter notebooks, please go through this introductory manual <a href='https://quantra.quantinsti.com/quantra-notebook' target=\"_blank\">here</a>.\n",
    "1. Any changes made in this notebook would be lost after you close the browser window. **You can download the notebook to save your work on your PC.**\n",
    "1. Before running this notebook on your local PC:<br>\n",
    "i.  You need to set up a Python environment and the relevant packages on your local PC. To do so, go through the section on \"**Run Codes Locally on Your Machine**\" in the course.<br>\n",
    "ii. You need to **download the zip file available in the last unit** of this course. The zip file contains the data files and/or python modules that might be required to run this notebook."
   ]
  },
  {
   "cell_type": "markdown",
   "id": "dbde64ac",
   "metadata": {
    "id": "dbde64ac"
   },
   "source": [
    "## Working with Pickle File(.bz2)\n",
    "\n",
    "1. The most important advantage of using a pickle file instead of a CSV is that it retains the datatype of the column. For example, if the index is set to Datetime format in the dataframe and saved as a pickle file, it will be saved and retained whenever it is re-imported.\n",
    "\n",
    "2. However, the limitation of pickle files is that they are Python-version-specific, i.e. you might encounter issues when saving files in one Python version and reading them in the other. Pickle files are backward compatible i.e. pickle files created in a lower version can be read in a higher version.\n",
    "\n",
    "3. The `bz2` format is used for saving the pickle file in a compressed manner. In this notebook, we will see the process of saving a dataframe as a pickle file.\n",
    "\n",
    "The notebook is structured as follows:\n",
    "1. [Import the Data](#import)\n",
    "2. [Save as Pickle File](#save)\n",
    "3. [Read Pickle File](#read)\n",
    "4. [Common Errors](#error)\n",
    "\n",
    "## Import Libraries"
   ]
  },
  {
   "cell_type": "code",
   "execution_count": 1,
   "id": "b509f2e6",
   "metadata": {
    "id": "b509f2e6"
   },
   "outputs": [],
   "source": [
    "# For data manipulation\n",
    "import pandas as pd\n",
    "\n",
    "# For checking python version\n",
    "from platform import python_version"
   ]
  },
  {
   "cell_type": "markdown",
   "id": "8dad3842",
   "metadata": {
    "id": "8dad3842"
   },
   "source": [
    "<a id='import'></a>\n",
    "## Import the Data\n",
    "\n",
    "Import the file `AAPL_daily_data.csv` using the `read_csv` method of `pandas`."
   ]
  },
  {
   "cell_type": "code",
   "execution_count": 2,
   "id": "41c53320",
   "metadata": {
    "id": "41c53320",
    "outputId": "ce459ff6-691c-44e4-ab70-c5a76b4b331d"
   },
   "outputs": [
    {
     "name": "stdout",
     "output_type": "stream",
     "text": [
      "<class 'pandas.core.indexes.base.Index'>\n"
     ]
    }
   ],
   "source": [
    "# Import price data of Apple stock\n",
    "data = pd.read_csv(\"../data_modules/AAPL_daily_data.csv\", index_col=0)\n",
    "print(type(data.index))"
   ]
  },
  {
   "cell_type": "code",
   "execution_count": 3,
   "id": "ac4afd9b",
   "metadata": {},
   "outputs": [
    {
     "name": "stdout",
     "output_type": "stream",
     "text": [
      "<class 'pandas.core.indexes.datetimes.DatetimeIndex'>\n"
     ]
    }
   ],
   "source": [
    "# Change index to datetime\n",
    "data.index = pd.to_datetime(data.index)\n",
    "print(type(data.index))"
   ]
  },
  {
   "cell_type": "markdown",
   "id": "3ba4570c",
   "metadata": {},
   "source": [
    "The datatype of index has been changed to `DatetimeIndex`."
   ]
  },
  {
   "cell_type": "code",
   "execution_count": 4,
   "id": "a247b680",
   "metadata": {
    "id": "a247b680",
    "outputId": "8b1adbe7-2156-49dc-8d30-038d61ed4c2e"
   },
   "outputs": [
    {
     "data": {
      "text/html": [
       "<div>\n",
       "<style scoped>\n",
       "    .dataframe tbody tr th:only-of-type {\n",
       "        vertical-align: middle;\n",
       "    }\n",
       "\n",
       "    .dataframe tbody tr th {\n",
       "        vertical-align: top;\n",
       "    }\n",
       "\n",
       "    .dataframe thead th {\n",
       "        text-align: right;\n",
       "    }\n",
       "</style>\n",
       "<table border=\"1\" class=\"dataframe\">\n",
       "  <thead>\n",
       "    <tr style=\"text-align: right;\">\n",
       "      <th></th>\n",
       "      <th>open</th>\n",
       "      <th>high</th>\n",
       "      <th>low</th>\n",
       "      <th>close</th>\n",
       "    </tr>\n",
       "  </thead>\n",
       "  <tbody>\n",
       "    <tr>\n",
       "      <th>2007-01-03 00:00:00+00:00</th>\n",
       "      <td>86.30</td>\n",
       "      <td>86.58</td>\n",
       "      <td>81.90</td>\n",
       "      <td>83.80</td>\n",
       "    </tr>\n",
       "    <tr>\n",
       "      <th>2007-01-04 00:00:00+00:00</th>\n",
       "      <td>84.05</td>\n",
       "      <td>85.95</td>\n",
       "      <td>83.82</td>\n",
       "      <td>85.64</td>\n",
       "    </tr>\n",
       "    <tr>\n",
       "      <th>2007-01-05 00:00:00+00:00</th>\n",
       "      <td>85.76</td>\n",
       "      <td>86.20</td>\n",
       "      <td>84.40</td>\n",
       "      <td>85.15</td>\n",
       "    </tr>\n",
       "    <tr>\n",
       "      <th>2007-01-08 00:00:00+00:00</th>\n",
       "      <td>85.94</td>\n",
       "      <td>88.92</td>\n",
       "      <td>85.28</td>\n",
       "      <td>85.44</td>\n",
       "    </tr>\n",
       "    <tr>\n",
       "      <th>2007-01-09 00:00:00+00:00</th>\n",
       "      <td>86.49</td>\n",
       "      <td>92.98</td>\n",
       "      <td>85.15</td>\n",
       "      <td>92.55</td>\n",
       "    </tr>\n",
       "  </tbody>\n",
       "</table>\n",
       "</div>"
      ],
      "text/plain": [
       "                            open   high    low  close\n",
       "2007-01-03 00:00:00+00:00  86.30  86.58  81.90  83.80\n",
       "2007-01-04 00:00:00+00:00  84.05  85.95  83.82  85.64\n",
       "2007-01-05 00:00:00+00:00  85.76  86.20  84.40  85.15\n",
       "2007-01-08 00:00:00+00:00  85.94  88.92  85.28  85.44\n",
       "2007-01-09 00:00:00+00:00  86.49  92.98  85.15  92.55"
      ]
     },
     "execution_count": 4,
     "metadata": {},
     "output_type": "execute_result"
    }
   ],
   "source": [
    "# Print first 5 rows\n",
    "data.head(5)"
   ]
  },
  {
   "cell_type": "markdown",
   "id": "61bdea33",
   "metadata": {
    "id": "61bdea33"
   },
   "source": [
    "<a id='save'></a>\n",
    "## Save as Pickle File\n",
    "\n",
    "We will save the dataframe `data` as a pickle file by using `to_pickle` function. But before that, we would check the versions of `python` and `pandas`. The extension used for saving the file will be `.bz2` as it provides a very good size compression. \n",
    "\n",
    "Syntax:\n",
    "```python\n",
    "df.to_pickle(\"filename.bz2\")\n",
    "```"
   ]
  },
  {
   "cell_type": "code",
   "execution_count": 5,
   "id": "c019c2c6",
   "metadata": {
    "id": "c019c2c6",
    "outputId": "1cdcea79-03fa-4acc-880d-2299e5518b80"
   },
   "outputs": [
    {
     "name": "stdout",
     "output_type": "stream",
     "text": [
      "Python version = 3.11.9\n",
      "Pandas version = 2.2.2\n"
     ]
    }
   ],
   "source": [
    "# Check python version\n",
    "print(\"Python version =\", python_version())\n",
    "\n",
    "# Check pandas version\n",
    "print(\"Pandas version =\", pd.__version__)"
   ]
  },
  {
   "cell_type": "code",
   "execution_count": 6,
   "id": "622e0c26",
   "metadata": {
    "id": "622e0c26"
   },
   "outputs": [],
   "source": [
    "# Save the dataframe as pickle file\n",
    "data.to_pickle(\"AAPL_daily_data.bz2\")"
   ]
  },
  {
   "cell_type": "markdown",
   "id": "c09ed9a1",
   "metadata": {
    "id": "c09ed9a1"
   },
   "source": [
    "<a id='read'></a>\n",
    "## Read Pickle File\n",
    "\n",
    "We can read the pickle file using `read_pickle` method of pandas. \n",
    "\n",
    "Syntax:\n",
    "```python\n",
    "pd.read_csv(\"filename.bz2\")\n",
    "```"
   ]
  },
  {
   "cell_type": "code",
   "execution_count": 7,
   "id": "631b007b",
   "metadata": {
    "id": "631b007b",
    "outputId": "480f04e8-55b2-47a4-b75d-60753730995d"
   },
   "outputs": [
    {
     "data": {
      "text/html": [
       "<div>\n",
       "<style scoped>\n",
       "    .dataframe tbody tr th:only-of-type {\n",
       "        vertical-align: middle;\n",
       "    }\n",
       "\n",
       "    .dataframe tbody tr th {\n",
       "        vertical-align: top;\n",
       "    }\n",
       "\n",
       "    .dataframe thead th {\n",
       "        text-align: right;\n",
       "    }\n",
       "</style>\n",
       "<table border=\"1\" class=\"dataframe\">\n",
       "  <thead>\n",
       "    <tr style=\"text-align: right;\">\n",
       "      <th></th>\n",
       "      <th>open</th>\n",
       "      <th>high</th>\n",
       "      <th>low</th>\n",
       "      <th>close</th>\n",
       "    </tr>\n",
       "  </thead>\n",
       "  <tbody>\n",
       "    <tr>\n",
       "      <th>2007-01-03 00:00:00+00:00</th>\n",
       "      <td>86.30</td>\n",
       "      <td>86.58</td>\n",
       "      <td>81.90</td>\n",
       "      <td>83.80</td>\n",
       "    </tr>\n",
       "    <tr>\n",
       "      <th>2007-01-04 00:00:00+00:00</th>\n",
       "      <td>84.05</td>\n",
       "      <td>85.95</td>\n",
       "      <td>83.82</td>\n",
       "      <td>85.64</td>\n",
       "    </tr>\n",
       "    <tr>\n",
       "      <th>2007-01-05 00:00:00+00:00</th>\n",
       "      <td>85.76</td>\n",
       "      <td>86.20</td>\n",
       "      <td>84.40</td>\n",
       "      <td>85.15</td>\n",
       "    </tr>\n",
       "    <tr>\n",
       "      <th>2007-01-08 00:00:00+00:00</th>\n",
       "      <td>85.94</td>\n",
       "      <td>88.92</td>\n",
       "      <td>85.28</td>\n",
       "      <td>85.44</td>\n",
       "    </tr>\n",
       "    <tr>\n",
       "      <th>2007-01-09 00:00:00+00:00</th>\n",
       "      <td>86.49</td>\n",
       "      <td>92.98</td>\n",
       "      <td>85.15</td>\n",
       "      <td>92.55</td>\n",
       "    </tr>\n",
       "  </tbody>\n",
       "</table>\n",
       "</div>"
      ],
      "text/plain": [
       "                            open   high    low  close\n",
       "2007-01-03 00:00:00+00:00  86.30  86.58  81.90  83.80\n",
       "2007-01-04 00:00:00+00:00  84.05  85.95  83.82  85.64\n",
       "2007-01-05 00:00:00+00:00  85.76  86.20  84.40  85.15\n",
       "2007-01-08 00:00:00+00:00  85.94  88.92  85.28  85.44\n",
       "2007-01-09 00:00:00+00:00  86.49  92.98  85.15  92.55"
      ]
     },
     "execution_count": 7,
     "metadata": {},
     "output_type": "execute_result"
    }
   ],
   "source": [
    "pickle_data = pd.read_pickle(\"AAPL_daily_data.bz2\")\n",
    "\n",
    "# Print top 5 rows\n",
    "pickle_data.head(5)"
   ]
  },
  {
   "cell_type": "markdown",
   "id": "9792f1c8",
   "metadata": {
    "id": "9792f1c8"
   },
   "source": [
    "The pickle file retains all the changes made to it. We changed the index to Datetime while saving the pickle file. We can see that this change is retained when we read the file again."
   ]
  },
  {
   "cell_type": "code",
   "execution_count": 8,
   "id": "141f0ca2",
   "metadata": {
    "id": "141f0ca2",
    "outputId": "e635b1d7-abc6-490c-d801-52d3eecd5063"
   },
   "outputs": [
    {
     "name": "stdout",
     "output_type": "stream",
     "text": [
      "<class 'pandas.core.indexes.datetimes.DatetimeIndex'>\n"
     ]
    }
   ],
   "source": [
    "# Check datatype of index\n",
    "print(type(pickle_data.index))"
   ]
  },
  {
   "cell_type": "markdown",
   "id": "12543adc",
   "metadata": {
    "id": "12543adc"
   },
   "source": [
    "<a id='error'></a>\n",
    "## Common Errors\n",
    "\n",
    "A common error that one can face while dealing with a pickle file is the inconsistency in the python/pandas version. The error raised is:\n",
    "\n",
    "`AttributeError: Can't get attribute '_unpickle_block' on <module 'pandas._libs.internals' from '/opt/conda/lib/python3.8/site-packages/pandas/_libs/internals.cpython-38-x86_64-linux-gnu.so'>`\n",
    "\n",
    "This is because the file was probably created with a newer Pandas version. Now to load the file, you are using an old version, and pickle can’t “deserialize” the object because of the API change. The best way to avoid this is to ensure consistency in the python and pandas versions.\n",
    "\n",
    "\n",
    "Another common error that one can come across is:\n",
    "\n",
    "`ValueError: unsupported pickle protocol: 4`\n",
    "\n",
    "The Pickle protocol is basically the file format. This error is thrown because the higher the protocol used, the more recent the version of Python needed to read the pickle produced. Pickle protocol version 4 was added in Python 3.4. The best way to solve this is to upgrade to Python 3.4 or later."
   ]
  },
  {
   "cell_type": "markdown",
   "id": "001e51c1",
   "metadata": {
    "id": "001e51c1"
   },
   "source": [
    "## Conclusion\n",
    "\n",
    "In this notebook, we saw how we can convert a CSV file into a pickle file with `.bz2` extension. To explore it further, you can try converting a CSV file into a pickle file and check the difference in file sizes of both files. You'll be amazed by the difference in file sizes between the `.csv` and `.bz2` files."
   ]
  }
 ],
 "metadata": {
  "colab": {
   "collapsed_sections": [],
   "provenance": []
  },
  "kernelspec": {
   "display_name": "Python 3 (ipykernel)",
   "language": "python",
   "name": "python3"
  },
  "language_info": {
   "codemirror_mode": {
    "name": "ipython",
    "version": 3
   },
   "file_extension": ".py",
   "mimetype": "text/x-python",
   "name": "python",
   "nbconvert_exporter": "python",
   "pygments_lexer": "ipython3",
   "version": "3.11.9"
  }
 },
 "nbformat": 4,
 "nbformat_minor": 5
}
